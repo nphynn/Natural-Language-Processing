{
  "nbformat": 4,
  "nbformat_minor": 0,
  "metadata": {
    "colab": {
      "provenance": []
    },
    "kernelspec": {
      "name": "python3",
      "display_name": "Python 3"
    },
    "language_info": {
      "name": "python"
    }
  },
  "cells": [
    {
      "cell_type": "code",
      "execution_count": null,
      "metadata": {
        "id": "6AQsUYk_cxaV"
      },
      "outputs": [],
      "source": [
        "## Libraries\n",
        "import pandas as pd\n",
        "import numpy as np\n",
        "import nltk\n",
        "from nltk.tokenize import sent_tokenize, word_tokenize\n",
        "from nltk.corpus import stopwords\n",
        "from collections import Counter\n",
        "from nltk.lm.preprocessing import flatten\n",
        "from nltk.util import ngrams\n",
        "import matplotlib.pyplot as plt\n",
        "from PIL import Image\n",
        "from wordcloud import WordCloud\n",
        "import unicodedata\n",
        "import stop_words\n",
        "import spacy\n",
        "from spacy.lang.en import stop_words"
      ]
    },
    {
      "cell_type": "code",
      "source": [
        "## Import your dataset and print dataframe.\n",
        "df = pd.read_csv('wine-raitngs.csv')\n",
        "print(df.head(5))\n",
        "\n",
        "nRow, nCol = df.shape\n",
        "print(f'There are {nRow} rows and {nCol} columns')"
      ],
      "metadata": {
        "id": "al7qJB0kc1dq"
      },
      "execution_count": null,
      "outputs": []
    },
    {
      "cell_type": "code",
      "source": [
        "#Check for missing data\n",
        "missing_df =  df.isnull().sum().to_frame().rename(columns={0:\"Total No. of Missing Values\"})\n",
        "missing_df[\"% of Missing Values\"] = round((missing_df[\"Total No. of Missing Values\"]/len( df))*100,2)\n",
        "missing_df\n",
        "\n",
        "df.dropna(inplace=True)\n",
        "print(df.head(5))\n",
        "\n",
        "nRow, nCol = df.shape\n",
        "print(f'There are {nRow} rows and {nCol} columns')"
      ],
      "metadata": {
        "id": "9AI8yFQoc2Fq"
      },
      "execution_count": null,
      "outputs": []
    },
    {
      "cell_type": "code",
      "source": [
        "# Normalize encodings\n",
        "df['notes'] = df['notes'].apply(lambda x: unicodedata.normalize('NFKD', x).encode('ascii', 'ignore').decode('utf-8', 'ignore'))\n",
        "df['notes'].head(5)\n",
        "\n",
        "#Lowercase text\n",
        "df['notes'] = df['notes'].str.lower()\n",
        "df['notes'].head(5)\n",
        "\n",
        "#Remove punctuation\n",
        "df['notes'] = df['notes'].str.replace(r'[^\\w\\s]','', regex = True)\n",
        "df['notes'].head(5)\n",
        "\n",
        "#Remove numbers\n",
        "df['notes'] = df['notes'].str.replace('\\d+', '', regex=True)\n",
        "df['notes'].head(5)\n",
        "\n",
        "\n",
        "#Remove stopwords\n",
        "stop_words = stop_words.STOP_WORDS\n",
        "df['notes'] = df['notes'].apply(lambda x: ' '.join([word for word in x.split() if word not in (stop_words)]))\n",
        "df['notes'].head(5)"
      ],
      "metadata": {
        "id": "EBrlK2O9dOOZ"
      },
      "execution_count": null,
      "outputs": []
    },
    {
      "cell_type": "code",
      "source": [
        "#Summarize at least one metadata variable.\n",
        "df['variety'].value_counts(ascending = False)"
      ],
      "metadata": {
        "id": "f7swVMF_d1jw"
      },
      "execution_count": null,
      "outputs": []
    },
    {
      "cell_type": "code",
      "source": [
        "#Plot the 30 most frequent terms in the text.\n",
        "def to_list(strg_list):\n",
        "  return strg_list.strip(\"[]\").replace(\"'\",\"\").replace('\"',\"\").replace(\",\",\"\").split()\n",
        "\n",
        "df['ngram']=[list(ngrams(to_list(strg_list),3))for strg_list in df['notes']]\n",
        "count_ngram= Counter(list(flatten([list_item for list_item in df['ngram']])))\n",
        "print(sorted(list(count_ngram.items())[0:100]))"
      ],
      "metadata": {
        "id": "V4hivPyWd2FD"
      },
      "execution_count": null,
      "outputs": []
    },
    {
      "cell_type": "code",
      "source": [
        "# Unigrams Bargraph\n",
        "unigrams = df['notes'].str.split(expand=True).stack().value_counts()[0:30]\n",
        "unigrams.plot(kind = 'barh')"
      ],
      "metadata": {
        "id": "0eDP4ttnd40S"
      },
      "execution_count": null,
      "outputs": []
    },
    {
      "cell_type": "code",
      "source": [
        "#Create a word cloud of the text.\n",
        "df_wine = df[df['region'].str.contains(\"California\")]\n",
        "wine = df_wine['notes'].str.cat(sep=' ')\n",
        "\n",
        "wc = WordCloud().generate(wine)\n",
        "plt.imshow(wc)\n",
        "plt.axis(\"off\")\n",
        "plt.show()"
      ],
      "metadata": {
        "id": "ChxLa4IceC4B"
      },
      "execution_count": null,
      "outputs": []
    },
    {
      "cell_type": "code",
      "source": [],
      "metadata": {
        "id": "vefPS2FUeFqN"
      },
      "execution_count": null,
      "outputs": []
    }
  ]
}