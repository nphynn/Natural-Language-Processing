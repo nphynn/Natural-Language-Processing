{
  "nbformat": 4,
  "nbformat_minor": 0,
  "metadata": {
    "colab": {
      "provenance": []
    },
    "kernelspec": {
      "name": "python3",
      "display_name": "Python 3"
    },
    "language_info": {
      "name": "python"
    }
  },
  "cells": [
    {
      "cell_type": "code",
      "source": [
        "## Libraries\n",
        "import pandas as pd\n",
        "import numpy as np\n",
        "import nltk\n",
        "from nltk.tokenize import sent_tokenize, word_tokenize\n",
        "from nltk.corpus import stopwords\n",
        "from collections import Counter\n",
        "from nltk.lm.preprocessing import flatten\n",
        "from nltk.util import ngrams\n",
        "import matplotlib.pyplot as plt\n",
        "from PIL import Image\n",
        "from wordcloud import WordCloud\n",
        "import unicodedata\n",
        "import stop_words\n",
        "import spacy\n",
        "from spacy.lang.en import stop_words\n",
        "from sklearn.feature_extraction.text import TfidfVectorizer\n",
        "from sklearn.decomposition import PCA\n",
        "from sklearn.cluster import KMeans\n",
        "import gensim\n",
        "from gensim.models import LsiModel\n",
        "import gensim.corpora as corpora\n",
        "from gensim.models import CoherenceModel"
      ],
      "metadata": {
        "id": "ur0KILCVHe7q"
      },
      "execution_count": null,
      "outputs": []
    },
    {
      "cell_type": "code",
      "source": [
        "!pip install stop_words"
      ],
      "metadata": {
        "id": "w77mISuoJ8_p"
      },
      "execution_count": null,
      "outputs": []
    },
    {
      "cell_type": "code",
      "execution_count": null,
      "metadata": {
        "id": "gqBlPJ1bGvsl"
      },
      "outputs": [],
      "source": [
        "# Data Load & Preprocessing\n",
        "df = pd.read_csv('wine-raitngs.csv')\n",
        "df.dropna(inplace=True)\n",
        "df['notes'] = df['notes'].apply(lambda x: unicodedata.normalize('NFKD', x).encode('ascii', 'ignore').decode('utf-8', 'ignore'))\n",
        "df['notes'] = df['notes'].str.lower()\n",
        "df['notes'] = df['notes'].str.replace(r'[^\\w\\s]','', regex = True)\n",
        "df['notes'] = df['notes'].str.replace('\\d+', '', regex=True)\n",
        "stop_words = stop_words.STOP_WORDS\n",
        "df['notes'] = df['notes'].apply(lambda x: ' '.join([word for word in x.split() if word not in (stop_words)]))\n",
        "df['notes'].head(5)\n",
        "df.head(5)\n",
        "\n",
        "\n",
        "# Further processing\n",
        "list_data = df['notes'].tolist()\n",
        "\n",
        "token_data = []\n",
        "\n",
        "for sent in list_data:\n",
        "  temp = gensim.utils.simple_preprocess(sent)\n",
        "  token_data.append(temp)\n",
        "\n",
        "token_data[10]"
      ]
    },
    {
      "cell_type": "code",
      "source": [
        "# Build word2vec model using the text\n",
        "model = gensim.models.Word2Vec(\n",
        "        token_data,\n",
        "        vector_size=100, #smaller size for smaller data\n",
        "        window=6,\n",
        "        min_count=2,\n",
        "        workers=4)"
      ],
      "metadata": {
        "id": "yi4x-T2QHDyr"
      },
      "execution_count": null,
      "outputs": []
    },
    {
      "cell_type": "code",
      "source": [
        "# 3 Target words and most similar words to them\n",
        "similar = []\n",
        "for word in [\"cabernet\", \"soft\", \"fruits\"]:\n",
        "    similar.append(model.wv.most_similar(word))\n",
        "similar"
      ],
      "metadata": {
        "id": "8IlHlTOZHH-r"
      },
      "execution_count": null,
      "outputs": []
    }
  ]
}