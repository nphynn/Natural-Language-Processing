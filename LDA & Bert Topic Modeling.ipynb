{
  "nbformat": 4,
  "nbformat_minor": 0,
  "metadata": {
    "colab": {
      "provenance": []
    },
    "kernelspec": {
      "name": "python3",
      "display_name": "Python 3"
    },
    "language_info": {
      "name": "python"
    }
  },
  "cells": [
    {
      "cell_type": "code",
      "source": [
        "!pip install stop-words\n",
        "!pip install pyLDAvis\n",
        "!pip install bertopic"
      ],
      "metadata": {
        "id": "fp4gIYpneJuR"
      },
      "execution_count": null,
      "outputs": []
    },
    {
      "cell_type": "code",
      "execution_count": null,
      "metadata": {
        "id": "NCmuYaDfvwaS"
      },
      "outputs": [],
      "source": [
        "## Libraries\n",
        "import pandas as pd\n",
        "import numpy as np\n",
        "import nltk\n",
        "from nltk.tokenize import sent_tokenize, word_tokenize\n",
        "from nltk.corpus import stopwords\n",
        "from collections import Counter\n",
        "from nltk.lm.preprocessing import flatten\n",
        "from nltk.util import ngrams\n",
        "import matplotlib.pyplot as plt\n",
        "from PIL import Image\n",
        "from wordcloud import WordCloud\n",
        "import unicodedata\n",
        "import stop_words\n",
        "import spacy\n",
        "from spacy.lang.en import stop_words\n",
        "from sklearn.feature_extraction.text import TfidfVectorizer\n",
        "from sklearn.decomposition import PCA\n",
        "from sklearn.cluster import KMeans\n",
        "import gensim\n",
        "from gensim.models import LsiModel\n",
        "import gensim.corpora as corpora\n",
        "from gensim.models import CoherenceModel\n",
        "import pyLDAvis\n",
        "import pyLDAvis.gensim_models\n",
        "nltk.download('punkt')"
      ]
    },
    {
      "cell_type": "code",
      "source": [
        "# Import the data and clean/preprocess the text data.\n",
        "df = pd.read_csv('wine-raitngs.csv')\n",
        "df.dropna(inplace=True)\n",
        "df['notes'] = df['notes'].apply(lambda x: unicodedata.normalize('NFKD', x).encode('ascii', 'ignore').decode('utf-8', 'ignore'))\n",
        "df['notes'] = df['notes'].str.lower()\n",
        "df['notes'] = df['notes'].str.replace(r'[^\\w\\s]','', regex = True)\n",
        "df['notes'] = df['notes'].str.replace('\\d+', '', regex=True)\n",
        "stop_words = stop_words.STOP_WORDS\n",
        "df['notes'] = df['notes'].apply(lambda x: ' '.join([word for word in x.split() if word not in (stop_words)]))\n",
        "df['notes'].head(5)\n",
        "df.head(5)"
      ],
      "metadata": {
        "id": "UKtxO1HcwNI4"
      },
      "execution_count": null,
      "outputs": []
    },
    {
      "cell_type": "code",
      "source": [
        "# Red wine data split topic modeling and visualization\n",
        "df1 = df[df['variety'] == 'Red Wine']\n",
        "\n",
        "texts1 = list(df1['notes'])\n",
        "texts1 = [word_tokenize(text) for text in texts1]\n",
        "\n",
        "dictionary1 = corpora.Dictionary(texts1)\n",
        "corpus1 = [dictionary1.doc2bow(text) for text in texts1]\n",
        "\n",
        "\n",
        "lda_model1 = gensim.models.ldamodel.LdaModel(corpus = corpus1, #TDM\n",
        "                                           id2word = dictionary1, #Dictionary\n",
        "                                           num_topics = 5,\n",
        "                                           random_state = 100,\n",
        "                                           update_every = 1,\n",
        "                                           chunksize = 100,\n",
        "                                           passes = 10,\n",
        "                                           alpha = 'auto',\n",
        "                                           per_word_topics = True)\n",
        "\n",
        "\n",
        "vis = pyLDAvis.gensim_models.prepare(lda_model1, corpus1, dictionary1, n_jobs = 1)\n",
        "pyLDAvis.display(vis)\n",
        "\n",
        "#pyLDAvis.save_html(vis, 'LDA_Visualization_1.html') ##saves the file"
      ],
      "metadata": {
        "id": "rwgWdxVexkkz"
      },
      "execution_count": null,
      "outputs": []
    },
    {
      "cell_type": "code",
      "source": [
        "# White wine data split topic modeling and visualization\n",
        "df2 = df[df['variety'] == 'White Wine']\n",
        "\n",
        "texts2 = list(df2['notes'])\n",
        "texts2 = [word_tokenize(text) for text in texts2]\n",
        "\n",
        "dictionary1.filter_extremes(no_below=10, no_above=0.9)\n",
        "corpus2 = [dictionary1.doc2bow(text) for text in texts2]\n",
        "\n",
        "lda_model2 = gensim.models.ldamodel.LdaModel(corpus = corpus2, #TDM\n",
        "                                           id2word = dictionary1, #Dictionary\n",
        "                                           num_topics = 5,\n",
        "                                           random_state = 100,\n",
        "                                           update_every = 1,\n",
        "                                           chunksize = 100,\n",
        "                                           passes = 10,\n",
        "                                           alpha = 'auto',\n",
        "                                           per_word_topics = True)\n",
        "\n",
        "\n",
        "vis1 = pyLDAvis.gensim_models.prepare(lda_model2, corpus2, dictionary1, n_jobs = 1)\n",
        "pyLDAvis.display(vis1)\n",
        "\n",
        "#pyLDAvis.save_html(vis1, 'LDA_Visualization_2.html') ##saves the file"
      ],
      "metadata": {
        "id": "XgPfxQm0zxy4"
      },
      "execution_count": null,
      "outputs": []
    },
    {
      "cell_type": "code",
      "source": [
        "# Bert Topic Modeling\n",
        "from bertopic import BERTopic\n",
        "import plotly\n",
        "\n",
        "\n",
        "topic_model = BERTopic(verbose=True)\n",
        "topics, probs = topic_model.fit_transform(df['notes'])\n",
        "\n",
        "\n",
        "topic_model.visualize_topics()"
      ],
      "metadata": {
        "id": "EQR_VsHt1PkT"
      },
      "execution_count": null,
      "outputs": []
    },
    {
      "cell_type": "code",
      "source": [
        "topics_per_class = topic_model.topics_per_class(df['notes'], classes=df['variety'])\n",
        "\n",
        "\n",
        "topic_model.visualize_topics_per_class(topics_per_class)"
      ],
      "metadata": {
        "id": "gG_Pwjor7JZP"
      },
      "execution_count": null,
      "outputs": []
    }
  ]
}