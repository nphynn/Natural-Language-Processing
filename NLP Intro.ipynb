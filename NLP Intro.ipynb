{
  "nbformat": 4,
  "nbformat_minor": 0,
  "metadata": {
    "colab": {
      "provenance": []
    },
    "kernelspec": {
      "name": "python3",
      "display_name": "Python 3"
    },
    "language_info": {
      "name": "python"
    }
  },
  "cells": [
    {
      "cell_type": "markdown",
      "source": [
        "Getting Started Assignment\n",
        "\n",
        "Nick Phynn\n",
        "\n",
        "7/16/2024"
      ],
      "metadata": {
        "id": "rjimX-dAZmlI"
      }
    },
    {
      "cell_type": "code",
      "source": [
        "#Load data\n",
        "import pandas as pd\n",
        "df = pd.read_csv('Jobs.csv')\n",
        "df.head()"
      ],
      "metadata": {
        "id": "2PCv93etZy-C"
      },
      "execution_count": null,
      "outputs": []
    },
    {
      "cell_type": "code",
      "source": [
        "#Printing one job description (text column)\n",
        "df.loc[450, 'description']"
      ],
      "metadata": {
        "id": "s7weKEn-Z_Jf"
      },
      "execution_count": null,
      "outputs": []
    }
  ]
}