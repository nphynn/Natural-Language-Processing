{
  "nbformat": 4,
  "nbformat_minor": 0,
  "metadata": {
    "colab": {
      "provenance": []
    },
    "kernelspec": {
      "name": "python3",
      "display_name": "Python 3"
    },
    "language_info": {
      "name": "python"
    }
  },
  "cells": [
    {
      "cell_type": "code",
      "source": [
        "## Libraries\n",
        "import pandas as pd\n",
        "import numpy as np\n",
        "import nltk\n",
        "from nltk.tokenize import sent_tokenize, word_tokenize\n",
        "from nltk.corpus import stopwords\n",
        "from collections import Counter\n",
        "from nltk.lm.preprocessing import flatten\n",
        "from nltk.util import ngrams\n",
        "import matplotlib.pyplot as plt\n",
        "from PIL import Image\n",
        "from wordcloud import WordCloud\n",
        "import unicodedata\n",
        "import stop_words\n",
        "import spacy\n",
        "from spacy.lang.en import stop_words\n",
        "import matplotlib.pyplot as plt\n",
        "import seaborn as sns"
      ],
      "metadata": {
        "id": "CWk4lmKUMOvn"
      },
      "execution_count": null,
      "outputs": []
    },
    {
      "cell_type": "code",
      "execution_count": null,
      "metadata": {
        "id": "jrzVQIQaK13p"
      },
      "outputs": [],
      "source": [
        "# Data Load & Preprocess\n",
        "df = pd.read_csv('redditSubmissions.csv', on_bad_lines='warn')\n",
        "df.dropna(inplace=True)\n",
        "\n",
        "# Normalize encodings\n",
        "df['title'] = df['title'].apply(lambda x: unicodedata.normalize('NFKD', x).encode('ascii', 'ignore').decode('utf-8', 'ignore'))\n",
        "\n",
        "# Lower Text\n",
        "df['title'] = df['title'].str.lower()\n",
        "\n",
        "# Remove numbers and punctuation\n",
        "df['title'] = df['title'].str.replace(r'[^\\w\\s]','', regex = True)\n",
        "df['title'] = df['title'].str.replace('\\d+', '', regex=True)\n",
        "\n",
        "# Remove Stopwords\n",
        "stop_words = stop_words.STOP_WORDS\n",
        "df['title'] = df['title'].apply(lambda x: ' '.join([word for word in x.split() if word not in (stop_words)]))\n",
        "\n",
        "df.head()"
      ]
    },
    {
      "cell_type": "code",
      "source": [
        "df.describe(include=\"all\").T"
      ],
      "metadata": {
        "id": "ltw7eZviPCYI"
      },
      "execution_count": null,
      "outputs": []
    },
    {
      "cell_type": "code",
      "source": [
        "# Value counts of meta data\n",
        "\n",
        "frequency_table_all = {\n",
        "    'username': df['username'].value_counts(),\n",
        "    'subreddit': df['subreddit'].value_counts(),\n",
        "    'reddit_id': df['reddit_id'].value_counts()\n",
        "}\n",
        "\n",
        "# Print frequency tables\n",
        "for column, table in frequency_table_all.items():\n",
        "    print(f\"Frequency Table for '{column}':\\n\", table, \"\\n\")"
      ],
      "metadata": {
        "id": "EmHgHr0MLlY0"
      },
      "execution_count": null,
      "outputs": []
    },
    {
      "cell_type": "code",
      "source": [
        "#Summary of meta data\n",
        "summary_table_all = {\n",
        "    'username': df['username'].describe(),\n",
        "    'subreddit': df['subreddit'].describe(),\n",
        "    'reddit_id': df['reddit_id'].describe()\n",
        "}\n",
        "\n",
        "for column, summary in summary_table_all.items():\n",
        "    print(f\"Summary for '{column}':\\n\", summary, \"\\n\")"
      ],
      "metadata": {
        "id": "kQ6xBoAJOsDG"
      },
      "execution_count": null,
      "outputs": []
    },
    {
      "cell_type": "code",
      "source": [
        "#Create a word cloud of the text.\n",
        "df_reddit = df[df['title'].str.contains(\"funny\")]\n",
        "df1 = df_reddit['title'].str.cat(sep=' ')\n",
        "\n",
        "wc = WordCloud().generate(df1)\n",
        "plt.imshow(wc)\n",
        "plt.axis(\"off\")\n",
        "plt.show()"
      ],
      "metadata": {
        "id": "nI1Lxa5jLrH-"
      },
      "execution_count": null,
      "outputs": []
    }
  ]
}