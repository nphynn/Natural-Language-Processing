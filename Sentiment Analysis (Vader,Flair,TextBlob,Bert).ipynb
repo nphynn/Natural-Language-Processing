{
  "nbformat": 4,
  "nbformat_minor": 0,
  "metadata": {
    "colab": {
      "provenance": []
    },
    "kernelspec": {
      "name": "python3",
      "display_name": "Python 3"
    },
    "language_info": {
      "name": "python"
    }
  },
  "cells": [
    {
      "cell_type": "code",
      "execution_count": null,
      "metadata": {
        "id": "orVxJteJVkc9"
      },
      "outputs": [],
      "source": [
        "## Libraries\n",
        "import pandas as pd\n",
        "import numpy as np\n",
        "import nltk\n",
        "from nltk.tokenize import sent_tokenize, word_tokenize\n",
        "from nltk.corpus import stopwords\n",
        "from collections import Counter\n",
        "from nltk.lm.preprocessing import flatten\n",
        "from nltk.util import ngrams\n",
        "import matplotlib.pyplot as plt\n",
        "from PIL import Image\n",
        "from wordcloud import WordCloud\n",
        "import unicodedata\n",
        "import stop_words\n",
        "import spacy\n",
        "from spacy.lang.en import stop_words\n",
        "from sklearn.feature_extraction.text import TfidfVectorizer\n",
        "from sklearn.decomposition import PCA\n",
        "from sklearn.cluster import KMeans"
      ]
    },
    {
      "cell_type": "code",
      "source": [
        "# Import the data and clean/preprocess the text data.\n",
        "df = pd.read_csv('wine-raitngs.csv')\n",
        "df.dropna(inplace=True)\n",
        "df['notes'] = df['notes'].apply(lambda x: unicodedata.normalize('NFKD', x).encode('ascii', 'ignore').decode('utf-8', 'ignore'))\n",
        "df['notes'] = df['notes'].str.lower()\n",
        "df['notes'] = df['notes'].str.replace(r'[^\\w\\s]','', regex = True)\n",
        "df['notes'] = df['notes'].str.replace('\\d+', '', regex=True)\n",
        "stop_words = stop_words.STOP_WORDS\n",
        "df['notes'] = df['notes'].apply(lambda x: ' '.join([word for word in x.split() if word not in (stop_words)]))\n",
        "df['notes'].head(5)\n",
        "df.head(5)"
      ],
      "metadata": {
        "id": "AbuJhgkuXxrS"
      },
      "execution_count": null,
      "outputs": []
    },
    {
      "cell_type": "code",
      "source": [
        "import vaderSentiment\n",
        "from vaderSentiment.vaderSentiment import SentimentIntensityAnalyzer\n",
        "\n",
        "analyzer = SentimentIntensityAnalyzer()\n",
        "\n",
        "for index, row in df.iterrows():\n",
        "    vs = analyzer.polarity_scores(row['notes'])\n",
        "    df.loc[index, 'vader_pos'] = vs['pos']\n",
        "    df.loc[index, 'vader_neg'] = vs['neg']\n",
        "    df.loc[index, 'vader_neu'] = vs['neu']\n",
        "    df.loc[index, 'vader_compound'] = vs['compound']\n",
        "\n",
        "df"
      ],
      "metadata": {
        "id": "zZouryXqfXTI"
      },
      "execution_count": null,
      "outputs": []
    },
    {
      "cell_type": "code",
      "source": [
        "# Using df.iterrows()\n",
        "for index, row in df.iterrows():\n",
        "    tb = TextBlob(row['notes'])\n",
        "    df.loc[index, 'textblob_polarity'] = tb.sentiment.polarity\n",
        "    df.loc[index, 'textblob_subjectivity'] = tb.sentiment.subjectivity\n",
        "\n",
        "df"
      ],
      "metadata": {
        "id": "gPV6UQSwgEiW"
      },
      "execution_count": null,
      "outputs": []
    },
    {
      "cell_type": "code",
      "source": [
        "from flair.data import Sentence\n",
        "from flair.nn import Classifier\n",
        "\n",
        "tagger = Classifier.load('sentiment-fast')\n",
        "\n",
        "i = 0\n",
        "for overview in df['notes']:\n",
        "  try:\n",
        "    text = Sentence(overview)\n",
        "    tagger.predict(text)\n",
        "    df.loc[i, 'flair_sentiment'] = text.tag\n",
        "    df.loc[i, 'flair_score'] = text.score\n",
        "  except:\n",
        "    continue\n",
        "  i = i+1\n",
        "\n",
        "df.dropna(inplace=True)\n",
        "df"
      ],
      "metadata": {
        "id": "tUvtA3s7gsGl"
      },
      "execution_count": null,
      "outputs": []
    },
    {
      "cell_type": "code",
      "source": [
        "import transformers\n",
        "from transformers import pipeline\n",
        "\n",
        "specific_model = pipeline(model=\"bhadresh-savani/distilbert-base-uncased-emotion\")\n",
        "for i in range(len(df.index)):\n",
        "  tags = specific_model(df.loc[i, 'notes'])\n",
        "  df.loc[i, 'bert_emotion'] = [tag['label'] for tag in tags]\n",
        "  df.loc[i, 'bert_score'] = [tag['score'] for tag in tags]\n",
        "\n",
        "df\n",
        "\n",
        "\n",
        "import transformers\n",
        "from transformers import pipeline\n",
        "\n",
        "specific_model = pipeline(model=\"bhadresh-savani/distilbert-base-uncased-emotion\")\n",
        "\n",
        "# Using df.iterrows() to avoid KeyError\n",
        "for index, row in df.iterrows():\n",
        "    tags = specific_model(row['notes'])\n",
        "    df.loc[index, 'bert_emotion'] = [tag['label'] for tag in tags]\n",
        "    df.loc[index, 'bert_score'] = [tag['score'] for tag in tags]\n",
        "\n",
        "df"
      ],
      "metadata": {
        "id": "D4GPjqeAlGbA"
      },
      "execution_count": null,
      "outputs": []
    },
    {
      "cell_type": "code",
      "source": [
        "most_frequent_sentiments = pd.DataFrame({\n",
        "    'Flair Sentiment': df.groupby('variety')['flair_sentiment'].apply(lambda x: x.value_counts().index[0]),\n",
        "    'Flair Score': df.groupby('variety')['flair_score'].apply(lambda x: round(x.mean(), 2)),\n",
        "    'BERT Emotion': df.groupby('variety')['bert_emotion'].apply(lambda x: x.value_counts().index[0]),\n",
        "    'BERT Score': df.groupby('variety')['bert_score'].apply(lambda x: round(x.mean(), 2)),\n",
        "    'Vader Compound': df.groupby('variety')['vader_compound'].apply(lambda x: round(x.mean(), 2)),\n",
        "    'Vader Positive': df.groupby('variety')['vader_pos'].apply(lambda x: round(x.mean(), 2)),\n",
        "    'Vader Negative': df.groupby('variety')['vader_neg'].apply(lambda x: round(x.mean(), 2)),\n",
        "    'Vader Neutral': df.groupby('variety')['vader_neu'].apply(lambda x: round(x.mean(), 2)),\n",
        "    'TextBlob Polarity': df.groupby('variety')['textblob_polarity'].apply(lambda x: round(x.mean(), 2)),\n",
        "    'TextBlob Subjectivity': df.groupby('variety')['textblob_subjectivity'].apply(lambda x: round(x.mean(), 2))\n",
        "\n",
        "print(most_frequent_sentiments)"
      ],
      "metadata": {
        "id": "wlZmmo62oaPW"
      },
      "execution_count": null,
      "outputs": []
    }
  ]
}